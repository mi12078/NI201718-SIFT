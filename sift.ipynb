{
 "cells": [
  {
   "cell_type": "code",
   "execution_count": null,
   "metadata": {},
   "outputs": [],
   "source": [
    "import numpy as np\n",
    "from PIL import Image\n",
    "import matplotlib.pyplot as plt\n",
    "from scipy.ndimage.filters import gaussian_filter\n",
    "from scipy import misc\n",
    "import warnings\n",
    "warnings.filterwarnings('ignore')"
   ]
  },
  {
   "cell_type": "code",
   "execution_count": null,
   "metadata": {},
   "outputs": [],
   "source": [
    "# Image\n",
    "imagePath = 'details.jpg'\n",
    "image = Image.open(imagePath)\n",
    "grayscaleImage = image.convert('F')\n",
    "plt.imshow(grayscaleImage, cmap='gray')\n",
    "# plt.axis('off')\n",
    "plt.show()"
   ]
  },
  {
   "cell_type": "code",
   "execution_count": null,
   "metadata": {},
   "outputs": [],
   "source": [
    "# Variables\n",
    "sigma = 1.6\n",
    "s = 2\n",
    "k = 2 ** (1/s)\n",
    "noOfOctaves = 4\n",
    "imagesPerOctave = s + 3"
   ]
  },
  {
   "cell_type": "code",
   "execution_count": null,
   "metadata": {},
   "outputs": [],
   "source": [
    "# Initialize arrays of values which will be used as a blur parameter to the gaussian filter\n",
    "blurValues = np.zeros((noOfOctaves, imagesPerOctave))\n",
    "val = sigma/2\n",
    "for i in range(noOfOctaves):\n",
    "    for j in range(imagesPerOctave):\n",
    "        blurValues[i][j] = val\n",
    "        val = val*k\n",
    "    val = blurValues[i][2]\n",
    "blurValues"
   ]
  },
  {
   "cell_type": "code",
   "execution_count": null,
   "metadata": {},
   "outputs": [],
   "source": [
    "# Set up images of different scales for each octave\n",
    "ImageSize2 = np.array(grayscaleImage) # original-size image\n",
    "ImageSize1 = misc.imresize(ImageSize2, 200, 'bilinear')\n",
    "ImageSize4 = misc.imresize(ImageSize1, 50, 'bilinear')\n",
    "ImageSize8 = misc.imresize(ImageSize2, 50, 'bilinear')\n",
    "\n",
    "fig = plt.figure(figsize=(20, 20))\n",
    "fig.add_subplot(1, 4, 1)\n",
    "plt.imshow(ImageSize1, cmap='gray')\n",
    "fig.add_subplot(1, 4, 2)\n",
    "plt.imshow(ImageSize2, cmap='gray')\n",
    "fig.add_subplot(1, 4, 3)\n",
    "plt.imshow(ImageSize4, cmap='gray')\n",
    "fig.add_subplot(1, 4, 4)\n",
    "plt.imshow(ImageSize8, cmap='gray')\n",
    "plt.show()\n"
   ]
  },
  {
   "cell_type": "code",
   "execution_count": null,
   "metadata": {},
   "outputs": [],
   "source": [
    "# Calculate Gaussian blurred images for each octave\n",
    "scaledImages = [ImageSize1, ImageSize2, ImageSize4, ImageSize8]\n",
    "\n",
    "octaves = []\n",
    "octave1 = np.zeros((ImageSize1.shape[0], ImageSize1.shape[1], imagesPerOctave))\n",
    "octave2 = np.zeros((ImageSize2.shape[0], ImageSize2.shape[1], imagesPerOctave))\n",
    "octave3 = np.zeros((ImageSize4.shape[0], ImageSize4.shape[1], imagesPerOctave))\n",
    "octave4 = np.zeros((ImageSize8.shape[0], ImageSize8.shape[1], imagesPerOctave))\n",
    "octaves.append(octave1)\n",
    "octaves.append(octave2)\n",
    "octaves.append(octave3)\n",
    "octaves.append(octave4)\n",
    "\n",
    "for i in range(noOfOctaves):\n",
    "    for j in range(imagesPerOctave):\n",
    "        octaves[i][:,:,j]= gaussian_filter(scaledImages[i], sigma=blurValues[i][j])"
   ]
  },
  {
   "cell_type": "code",
   "execution_count": null,
   "metadata": {},
   "outputs": [],
   "source": [
    "# Calculate differences of Gaussians(DoG) for each octave\n",
    "DoGs = []\n",
    "DoGImageNo = imagesPerOctave-1\n",
    "DoG1 = np.zeros((ImageSize1.shape[0], ImageSize1.shape[1], DoGImageNo))\n",
    "DoG2 = np.zeros((ImageSize2.shape[0], ImageSize2.shape[1], DoGImageNo))\n",
    "DoG3 = np.zeros((ImageSize4.shape[0], ImageSize4.shape[1], DoGImageNo))\n",
    "DoG4 = np.zeros((ImageSize8.shape[0], ImageSize8.shape[1], DoGImageNo))\n",
    "DoGs.append(DoG1)\n",
    "DoGs.append(DoG2)\n",
    "DoGs.append(DoG3)\n",
    "DoGs.append(DoG4)\n",
    "\n",
    "for i in range(noOfOctaves):\n",
    "    for j in range(DoGImageNo):\n",
    "        DoGs[i][:,:,j] = octaves[i][:,:,j+1] - octaves[i][:,:,j]"
   ]
  },
  {
   "cell_type": "code",
   "execution_count": null,
   "metadata": {},
   "outputs": [],
   "source": [
    "plt.imshow(DoGs[0][:,:,0], cmap='gray')\n",
    "plt.show()"
   ]
  },
  {
   "cell_type": "code",
   "execution_count": 79,
   "metadata": {},
   "outputs": [
    {
     "data": {
      "text/plain": [
       "([((313, 26), 1, 2.2627416997969525, 'min', -9.9658203125),\n",
       "  ((322, 28), 1, 2.2627416997969525, 'min', -10.269790649414062),\n",
       "  ((312, 31), 1, 2.2627416997969525, 'max', 9.582000732421875),\n",
       "  ((105, 37), 1, 2.2627416997969525, 'min', -8.863555908203125),\n",
       "  ((127, 343), 1, 2.2627416997969525, 'max', 14.837162017822266),\n",
       "  ((107, 346), 1, 2.2627416997969525, 'max', 13.624748229980469),\n",
       "  ((128, 357), 1, 3.2000000000000006, 'max', 11.659523010253906)],\n",
       " 7)"
      ]
     },
     "execution_count": 79,
     "metadata": {},
     "output_type": "execute_result"
    }
   ],
   "source": [
    "# Locate extrema in DoG images\n",
    "# Filter the extrema, removing keypoints along edges\n",
    "contrastThreshold = 0.03\n",
    "keypoints = []\n",
    "eigenValMagRatio = 10\n",
    "\n",
    "for octave in range(noOfOctaves):\n",
    "    for i in range(1, DoGImageNo - 1):\n",
    "        for y in range(1, DoGs[octave][:,:,i].shape[0] - 1):\n",
    "            for x in range(1, DoGs[octave][:,:,i].shape[1] - 1):\n",
    "                currPixVal = DoGs[octave][y, x, i]\n",
    "                if (np.absolute(currPixVal) / 255)  < contrastThreshold:\n",
    "                    continue\n",
    "                isMin = True\n",
    "                isMax = True\n",
    "                for r in range(-1, 2):\n",
    "                    for q in range(-1, 2):\n",
    "                        for p in range(-1, 2):\n",
    "                            if p==0 and q==0 and r==0:\n",
    "                                continue\n",
    "                            neighbour = DoGs[octave][y+q, x+p, i+r]\n",
    "                            if neighbour <= currPixVal:\n",
    "                                isMin = False\n",
    "                            if neighbour >= currPixVal:\n",
    "                                isMax = False\n",
    "                            if not isMax and not isMin:\n",
    "                                break\n",
    "                        if not isMax and not isMin:\n",
    "                            break\n",
    "                    if not isMax and not isMin:\n",
    "                        break\n",
    "                if isMax or isMin:\n",
    "                    Dxx = DoGs[octave][y, x+1, i] - 2*DoGs[octave][y, x, i] + DoGs[octave][y, x-1, i]\n",
    "                    Dyy = DoGs[octave][y+1, x, i] - 2*DoGs[octave][y, x, i] + DoGs[octave][y-1, x, i]\n",
    "                    Dxy = (DoGs[octave][y+1, x+1, i] - DoGs[octave][y-1, x+1, i] - DoGs[octave][y+1, x-1, i] + DoGs[octave][y-1, x-1, i]) / 4\n",
    "                    trace = Dxx + Dyy\n",
    "                    det = Dxx*Dyy - Dxy**2\n",
    "                    isKeyPoint = (trace**2 / det) < ((r + 1)**2 / r)\n",
    "\n",
    "                    if isKeyPoint:\n",
    "                        keypoint = ((x,y), octave, blurValues[octave][i], 'min' if isMin else 'max', currPixVal)\n",
    "                        keypoints.append(keypoint)\n",
    "\n",
    "keypoints, len(keypoints)"
   ]
  },
  {
   "cell_type": "code",
   "execution_count": null,
   "metadata": {},
   "outputs": [],
   "source": [
    "# keypoint magnitude and orientation assignment\n",
    "# Find the DoG which has the nearest blur value compared to that of the current keypoint"
   ]
  },
  {
   "cell_type": "code",
   "execution_count": null,
   "metadata": {},
   "outputs": [],
   "source": [
    "# Keypoint descriptor calculation"
   ]
  }
 ],
 "metadata": {
  "kernelspec": {
   "display_name": "Python 3",
   "language": "python",
   "name": "python3"
  },
  "language_info": {
   "codemirror_mode": {
    "name": "ipython",
    "version": 3
   },
   "file_extension": ".py",
   "mimetype": "text/x-python",
   "name": "python",
   "nbconvert_exporter": "python",
   "pygments_lexer": "ipython3",
   "version": "3.6.5"
  }
 },
 "nbformat": 4,
 "nbformat_minor": 2
}
